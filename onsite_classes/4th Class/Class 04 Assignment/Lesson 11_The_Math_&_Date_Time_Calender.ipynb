{
 "cells": [
  {
   "cell_type": "markdown",
   "id": "3ad4c67e",
   "metadata": {},
   "source": [
    "### The Date & Time"
   ]
  },
  {
   "cell_type": "code",
   "execution_count": 2,
   "id": "a54b0660",
   "metadata": {},
   "outputs": [
    {
     "name": "stdout",
     "output_type": "stream",
     "text": [
      "Number of ticks since 12:00am, January 1, 1970: 1756987309.3177502\n"
     ]
    }
   ],
   "source": [
    "import time # This is required to include time module.\n",
    "ticks = time.time()\n",
    "print(\"Number of ticks since 12:00am, January 1, 1970:\", ticks)"
   ]
  },
  {
   "cell_type": "markdown",
   "id": "70c0e35d",
   "metadata": {},
   "source": [
    "### Getting the Current Time    "
   ]
  },
  {
   "cell_type": "code",
   "execution_count": 3,
   "id": "1495effe",
   "metadata": {},
   "outputs": [
    {
     "name": "stdout",
     "output_type": "stream",
     "text": [
      "Local current time : time.struct_time(tm_year=2025, tm_mon=9, tm_mday=4, tm_hour=17, tm_min=2, tm_sec=10, tm_wday=3, tm_yday=247, tm_isdst=0)\n"
     ]
    }
   ],
   "source": [
    "import time\n",
    "localtime = time.localtime(time.time())\n",
    "print (\"Local current time :\", localtime)"
   ]
  },
  {
   "cell_type": "markdown",
   "id": "19d4d6de",
   "metadata": {},
   "source": [
    "### Getting the Formatted Time"
   ]
  },
  {
   "cell_type": "code",
   "execution_count": 4,
   "id": "bd94e81b",
   "metadata": {},
   "outputs": [
    {
     "name": "stdout",
     "output_type": "stream",
     "text": [
      "Local current time : Thu Sep  4 17:02:26 2025\n"
     ]
    }
   ],
   "source": [
    "import time\n",
    "localtime = time.asctime( time.localtime(time.time()) )\n",
    "print (\"Local current time :\", localtime)"
   ]
  },
  {
   "cell_type": "markdown",
   "id": "37e0fdec",
   "metadata": {},
   "source": [
    "### Getting the Calendar for a Month"
   ]
  },
  {
   "cell_type": "code",
   "execution_count": 5,
   "id": "d9a83613",
   "metadata": {},
   "outputs": [
    {
     "name": "stdout",
     "output_type": "stream",
     "text": [
      "Here is the calendar:\n",
      "    January 2025\n",
      "Mo Tu We Th Fr Sa Su\n",
      "       1  2  3  4  5\n",
      " 6  7  8  9 10 11 12\n",
      "13 14 15 16 17 18 19\n",
      "20 21 22 23 24 25 26\n",
      "27 28 29 30 31\n",
      "\n"
     ]
    }
   ],
   "source": [
    "import calendar\n",
    "cal = calendar.month(2025, 1)\n",
    "print (\"Here is the calendar:\")\n",
    "print (cal)"
   ]
  },
  {
   "cell_type": "markdown",
   "id": "fa6c28e6",
   "metadata": {},
   "source": [
    "## **The Date Time**"
   ]
  },
  {
   "cell_type": "code",
   "execution_count": 6,
   "id": "17aab4ca",
   "metadata": {},
   "outputs": [
    {
     "name": "stdout",
     "output_type": "stream",
     "text": [
      "Date: 2023-04-19\n",
      "Date2: 2023-04-30\n"
     ]
    }
   ],
   "source": [
    "from datetime import date\n",
    "\n",
    "date1 = date(2023, 4, 19)\n",
    "print(\"Date:\", date1)\n",
    "date2 = date(2023, 4, 30)\n",
    "print(\"Date2:\", date2)"
   ]
  },
  {
   "cell_type": "markdown",
   "id": "12e74ab9",
   "metadata": {},
   "source": [
    "## **The strftime() Method**\n",
    "\n",
    "The datetime object has a method for formatting date objects into readable strings.\n",
    "\n",
    "The method is called strftime(), and takes one parameter, format, to specify the format of the returned string:"
   ]
  },
  {
   "cell_type": "code",
   "execution_count": 7,
   "id": "7da1f623",
   "metadata": {},
   "outputs": [
    {
     "name": "stdout",
     "output_type": "stream",
     "text": [
      "000000\n",
      "Wednesday\n",
      "2025\n",
      "January\n",
      "01\n",
      "00\n"
     ]
    }
   ],
   "source": [
    "import datetime\n",
    "\n",
    "x = datetime.datetime(2025, 1, 1)\n",
    "\n",
    "print(x.strftime(\"%f\"))\n",
    "print(x.strftime(\"%A\"))\n",
    "print(x.strftime(\"%Y\"))\n",
    "print(x.strftime(\"%B\")) \n",
    "print(x.strftime(\"%d\"))\n",
    "print(x.strftime(\"%H\"))"
   ]
  },
  {
   "cell_type": "markdown",
   "id": "3a6dc29e",
   "metadata": {},
   "source": [
    "### Python Math Module"
   ]
  },
  {
   "cell_type": "code",
   "execution_count": 8,
   "id": "9b6dcae0",
   "metadata": {},
   "outputs": [
    {
     "name": "stdout",
     "output_type": "stream",
     "text": [
      "abs(-5) =  5\n",
      "pow(2, 3) =  8\n",
      "round(3.14159, 2) =  3.14\n",
      "max(1, 2, 3, 4, 5) =  5\n",
      "min(1, 2, 3, 4, 5) =  1\n",
      "math.sin(math.pi/2) =  1.0\n",
      "math.cos(0) =  1.0\n",
      "math.tan(math.pi/4) =  0.9999999999999999\n",
      "math.sqrt(9) =  3.0\n",
      "math.factorial(5) =  120\n",
      "math.log(10) =  2.302585092994046\n",
      "math.log10(100) =  2.0\n",
      "math.exp(2) =  7.38905609893065\n",
      "math.ceil(4.7) =  5\n",
      "math.floor(4.7) =  4\n",
      "math.pi =  3.141592653589793\n",
      "math.e =  2.718281828459045\n",
      "math.tau =  6.283185307179586\n",
      "math.inf =  inf\n",
      "math.nan =  nan\n"
     ]
    }
   ],
   "source": [
    "import math\n",
    "\n",
    "# abs() returns the absolute value of a number\n",
    "# In Python, abs() is a built-in function, which means it's a global function\n",
    "# available in the standard library without needing to import any specific modules.\n",
    "# You can use it directly in your code.\n",
    "print(\"abs(-5) = \", abs(-5))  # outputs: 5\n",
    "\n",
    "# pow() raises a number to a power\n",
    "print(\"pow(2, 3) = \", pow(2, 3))  # outputs: 8\n",
    "\n",
    "# round() rounds a number to a specified number of decimal places\n",
    "print(\"round(3.14159, 2) = \", round(3.14159, 2))  # outputs: 3.14\n",
    "\n",
    "# max() returns the largest of a set of numbers\n",
    "print(\"max(1, 2, 3, 4, 5) = \", max(1, 2, 3, 4, 5))  # outputs: 5\n",
    "\n",
    "# min() returns the smallest of a set of numbers\n",
    "print(\"min(1, 2, 3, 4, 5) = \", min(1, 2, 3, 4, 5))  # outputs: 1\n",
    "\n",
    "# math.sin() returns the sine of an angle in radians\n",
    "print(\"math.sin(math.pi/2) = \", math.sin(math.pi/2))  # outputs: 1.0\n",
    "\n",
    "# math.cos() returns the cosine of an angle in radians\n",
    "print(\"math.cos(0) = \", math.cos(0))  # outputs: 1.0\n",
    "\n",
    "# math.tan() returns the tangent of an angle in radians\n",
    "print(\"math.tan(math.pi/4) = \", math.tan(math.pi/4))  # outputs: 1.0\n",
    "\n",
    "# math.sqrt() returns the square root of a number\n",
    "print(\"math.sqrt(9) = \", math.sqrt(9))  # outputs: 3.0\n",
    "\n",
    "# math.factorial() returns the factorial of a number\n",
    "print(\"math.factorial(5) = \", math.factorial(5))  # outputs: 120\n",
    "\n",
    "# math.log() returns the natural logarithm of a number\n",
    "print(\"math.log(10) = \", math.log(10))  # outputs: 2.302585092994046\n",
    "\n",
    "# math.log10() returns the base-10 logarithm of a number\n",
    "print(\"math.log10(100) = \", math.log10(100))  # outputs: 2.0\n",
    "\n",
    "# math.exp() returns the value of e raised to a power\n",
    "print(\"math.exp(2) = \", math.exp(2))  # outputs: 7.38905609893065\n",
    "\n",
    "# math.ceil() returns the smallest integer greater than or equal to a number\n",
    "print(\"math.ceil(4.7) = \", math.ceil(4.7))  # outputs: 5\n",
    "\n",
    "# math.floor() returns the largest integer less than or equal to a number\n",
    "print(\"math.floor(4.7) = \", math.floor(4.7))  # outputs: 4\n",
    "\n",
    "# math.pi is a constant representing the ratio of a circle's circumference to its diameter\n",
    "print(\"math.pi = \", math.pi)  # outputs: 3.14159265359\n",
    "\n",
    "# math.e is a constant representing the base of the natural logarithm\n",
    "print(\"math.e = \", math.e)  # outputs: 2.718281828459045\n",
    "\n",
    "# math.tau is a constant representing the ratio of a circle's circumference to its radius\n",
    "print(\"math.tau = \", math.tau)  # outputs: 6.283185307179586\n",
    "\n",
    "# math.inf is a constant representing infinity\n",
    "print(\"math.inf = \", math.inf)  # outputs: inf\n",
    "\n",
    "# math.nan is a constant representing \"not a number\"\n",
    "print(\"math.nan = \", math.nan)  # outputs: nan"
   ]
  }
 ],
 "metadata": {
  "kernelspec": {
   "display_name": "base",
   "language": "python",
   "name": "python3"
  },
  "language_info": {
   "codemirror_mode": {
    "name": "ipython",
    "version": 3
   },
   "file_extension": ".py",
   "mimetype": "text/x-python",
   "name": "python",
   "nbconvert_exporter": "python",
   "pygments_lexer": "ipython3",
   "version": "3.12.7"
  }
 },
 "nbformat": 4,
 "nbformat_minor": 5
}
