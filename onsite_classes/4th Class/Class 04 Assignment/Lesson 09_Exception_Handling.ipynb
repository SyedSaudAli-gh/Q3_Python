{
 "cells": [
  {
   "cell_type": "markdown",
   "id": "59e6606d",
   "metadata": {},
   "source": [
    "### The try Block"
   ]
  },
  {
   "cell_type": "code",
   "execution_count": 1,
   "id": "e31430f9",
   "metadata": {},
   "outputs": [
    {
     "name": "stdout",
     "output_type": "stream",
     "text": [
      "An error occurred!\n"
     ]
    }
   ],
   "source": [
    "try:\n",
    "    result = 10 / 0 \n",
    "except:\n",
    "    print(\"An error occurred!\")"
   ]
  },
  {
   "cell_type": "markdown",
   "id": "95c57f60",
   "metadata": {},
   "source": [
    "### The except Block"
   ]
  },
  {
   "cell_type": "code",
   "execution_count": 2,
   "id": "99f48fb0",
   "metadata": {},
   "outputs": [
    {
     "name": "stdout",
     "output_type": "stream",
     "text": [
      "Cannot divide by zero!\n"
     ]
    }
   ],
   "source": [
    "try:\n",
    "    result = 10 / 0\n",
    "except ZeroDivisionError:\n",
    "    print(\"Cannot divide by zero!\")\n",
    "except Exception as e:\n",
    "    print(f\"An unexpected error occurred: {e}\")"
   ]
  },
  {
   "cell_type": "markdown",
   "id": "d643068d",
   "metadata": {},
   "source": [
    "### The else Block"
   ]
  },
  {
   "cell_type": "code",
   "execution_count": 4,
   "id": "e41b1c72",
   "metadata": {},
   "outputs": [
    {
     "name": "stdout",
     "output_type": "stream",
     "text": [
      "Division successful. Result: 5.0\n"
     ]
    }
   ],
   "source": [
    "try:\n",
    "    result = 10 / 2\n",
    "except ZeroDivisionError:\n",
    "    print(\"Cannot divide by zero!\")\n",
    "else:\n",
    "    print(f\"Division successful. Result: {result}\")"
   ]
  },
  {
   "cell_type": "markdown",
   "id": "65bc8b84",
   "metadata": {},
   "source": [
    "### The finally Block"
   ]
  },
  {
   "cell_type": "code",
   "execution_count": 5,
   "id": "e635ae08",
   "metadata": {},
   "outputs": [
    {
     "name": "stdout",
     "output_type": "stream",
     "text": [
      "Cannot divide by zero!\n",
      "This will always execute.\n"
     ]
    }
   ],
   "source": [
    "try:\n",
    "    result = 10 / 0\n",
    "except ZeroDivisionError:\n",
    "    print(\"Cannot divide by zero!\")\n",
    "finally:\n",
    "    print(\"This will always execute.\")"
   ]
  },
  {
   "cell_type": "markdown",
   "id": "787a8795",
   "metadata": {},
   "source": [
    "### Putting It All Together"
   ]
  },
  {
   "cell_type": "code",
   "execution_count": 6,
   "id": "05cfc8c6",
   "metadata": {},
   "outputs": [
    {
     "name": "stdout",
     "output_type": "stream",
     "text": [
      "Division successful. Result: 5.0\n",
      "Operation complete.\n",
      "\n",
      "Error: Cannot divide by zero!\n",
      "Operation complete.\n",
      "\n",
      "Error: Invalid input type. Numbers required.\n",
      "Operation complete.\n",
      "\n"
     ]
    }
   ],
   "source": [
    "def divide_numbers(a, b):\n",
    "    try:\n",
    "        result = a / b\n",
    "    except ZeroDivisionError:\n",
    "        print(\"Error: Cannot divide by zero!\")\n",
    "    except TypeError:\n",
    "        print(\"Error: Invalid input type. Numbers required.\")\n",
    "    else:\n",
    "        print(f\"Division successful. Result: {result}\")\n",
    "    finally:\n",
    "        print(\"Operation complete.\\n\")\n",
    "\n",
    "\n",
    "divide_numbers(10, 2)\n",
    "divide_numbers(10, 0) \n",
    "divide_numbers(10, \"2\") "
   ]
  },
  {
   "cell_type": "markdown",
   "id": "0d31eac4",
   "metadata": {},
   "source": [
    "### Play with Exception Handling in order to understand"
   ]
  },
  {
   "cell_type": "code",
   "execution_count": 7,
   "id": "ec1dee2a",
   "metadata": {},
   "outputs": [
    {
     "name": "stdout",
     "output_type": "stream",
     "text": [
      "else: Division successful. Result: 5.0\n",
      "finally: Operation complete.\n",
      "\n",
      "ZeroDivisionError: Cannot divide by zero!\n",
      "finally: Operation complete.\n",
      "\n",
      "TypeError: Invalid input type. Numbers required.\n",
      "finally: Operation complete.\n",
      "\n"
     ]
    }
   ],
   "source": [
    "def divide_numbers(a, b):\n",
    "    try:\n",
    "        result = a / b \n",
    "\n",
    "    except ZeroDivisionError:\n",
    "        print(\"ZeroDivisionError: Cannot divide by zero!\")\n",
    "    except TypeError:\n",
    "        print(\"TypeError: Invalid input type. Numbers required.\")\n",
    "    else:\n",
    "        print(f\"else: Division successful. Result: {result}\")\n",
    "    finally:\n",
    "        print(\"finally: Operation complete.\\n\")\n",
    "\n",
    "divide_numbers(10, 2)\n",
    "divide_numbers(10, 0) \n",
    "divide_numbers(10, \"2\")"
   ]
  },
  {
   "cell_type": "markdown",
   "id": "f9e00af4",
   "metadata": {},
   "source": [
    "### Key Points Covered:"
   ]
  },
  {
   "cell_type": "code",
   "execution_count": 8,
   "id": "88e6b628",
   "metadata": {},
   "outputs": [
    {
     "name": "stdout",
     "output_type": "stream",
     "text": [
      "Calculated ratios: [0.4235294117647059, 0.5569620253164557, 0.5131578947368421, 0.5714285714285714, 0.9523809523809523, 2.4, 0.10909090909090909, 0.7285714285714285, 3.3636363636363638, 3.5384615384615383]\n",
      "Error: Number of samples must be a positive integer.\n",
      "Negative number of samples, data processing failed.\n",
      "Error: Number of samples must be a positive integer.\n",
      "Invalid input type, data processing failed.\n"
     ]
    }
   ],
   "source": [
    "import random\n",
    "from typing import Tuple, Dict, List\n",
    "\n",
    "def generate_random_data(num_samples: int) -> List[Tuple[int, int]]:\n",
    "    \"\"\"Generates a list of random number pairs.\"\"\"\n",
    "    try:\n",
    "        if not isinstance(num_samples, int) or num_samples <= 0:\n",
    "            raise ValueError(\"Number of samples must be a positive integer.\")\n",
    "        data = [(random.randint(1, 100), random.randint(1, 100)) for _ in range(num_samples)]\n",
    "        return data\n",
    "    except ValueError as ve:\n",
    "        print(f\"Error: {ve}\")\n",
    "        return []\n",
    "    except Exception as e: \n",
    "        print(f\"An unexpected error occurred: {e}\")\n",
    "        return []\n",
    "\n",
    "\n",
    "def calculate_ratios(data: List[Tuple[int, int]]) -> List[float]:\n",
    "    \"\"\"Calculates the ratio of the first number to the second in each pair.\"\"\"\n",
    "    ratios = []\n",
    "    try:\n",
    "        for pair in data:\n",
    "            num1, num2 = pair\n",
    "            if num2 == 0:\n",
    "                raise ZeroDivisionError(\"Cannot divide by zero.\")\n",
    "            if not isinstance(num1,int) or not isinstance(num2,int):\n",
    "                raise TypeError(\"Input data must be integers.\")\n",
    "            ratio = num1 / num2\n",
    "            ratios.append(ratio)\n",
    "        return ratios\n",
    "    except ZeroDivisionError as zde:\n",
    "        print(f\"Error: {zde}\")\n",
    "        return []\n",
    "    except TypeError as te:\n",
    "        print(f\"Error: {te}\")\n",
    "        return []\n",
    "    except Exception as e:\n",
    "        print(f\"An unexpected error occurred during ratio calculation: {e}\")\n",
    "        return []\n",
    "\n",
    "\n",
    "def process_data(num_samples: int) -> List[float]:\n",
    "    \"\"\"Combines data generation and ratio calculation with comprehensive error handling.\"\"\"\n",
    "\n",
    "    data = generate_random_data(num_samples)\n",
    "    if not data:\n",
    "        return []\n",
    "\n",
    "    ratios = calculate_ratios(data)\n",
    "\n",
    "    return ratios\n",
    "\n",
    "\n",
    "try:\n",
    "  num_samples = 10\n",
    "  results = process_data(num_samples)\n",
    "\n",
    "  if results:\n",
    "    print(\"Calculated ratios:\", results)\n",
    "  else: \n",
    "      print(\"Data processing failed due to an error.\")\n",
    "\n",
    "except Exception as e:\n",
    "    print(f\"An unexpected error occurred: {e}\")\n",
    "\n",
    "\n",
    "results = process_data(-5)\n",
    "if not results:\n",
    "  print(\"Negative number of samples, data processing failed.\")\n",
    "\n",
    "results = process_data(\"abc\")\n",
    "if not results:\n",
    "    print(\"Invalid input type, data processing failed.\")"
   ]
  },
  {
   "cell_type": "markdown",
   "id": "4e8492a5",
   "metadata": {},
   "source": [
    "### Practice Problem:"
   ]
  },
  {
   "cell_type": "code",
   "execution_count": 9,
   "id": "13d082af",
   "metadata": {},
   "outputs": [
    {
     "name": "stdout",
     "output_type": "stream",
     "text": [
      "Error: Invalid input. Please enter numbers.\n",
      "Thank you for using the program!\n"
     ]
    }
   ],
   "source": [
    "try:\n",
    "    num1 = float(input(\"Enter the first number: \"))\n",
    "    num2 = float(input(\"Enter the second number: \"))\n",
    "    result = num1 / num2\n",
    "except ValueError:\n",
    "    print(\"Error: Invalid input. Please enter numbers.\")\n",
    "except ZeroDivisionError:\n",
    "    print(\"Error: Cannot divide by zero.\")\n",
    "else:\n",
    "    print(f\"The result is: {result}\")\n",
    "finally:\n",
    "    print(\"Thank you for using the program!\")"
   ]
  },
  {
   "cell_type": "markdown",
   "id": "0dcbcda3",
   "metadata": {},
   "source": [
    "### Handling the Exception with try-except"
   ]
  },
  {
   "cell_type": "code",
   "execution_count": 10,
   "id": "e36ba411",
   "metadata": {},
   "outputs": [
    {
     "name": "stdout",
     "output_type": "stream",
     "text": [
      "Error: Division by zero is not allowed!\n",
      "Program continues...\n"
     ]
    }
   ],
   "source": [
    "def divide(a, b):\n",
    "    if b == 0:\n",
    "        raise ValueError(\"Division by zero is not allowed!\")\n",
    "    return a / b\n",
    "\n",
    "try:\n",
    "    result = divide(5, 0)\n",
    "    print(result) \n",
    "except ValueError as e:\n",
    "    print(f\"Error: {e}\")\n",
    "\n",
    "print(\"Program continues...\")"
   ]
  },
  {
   "cell_type": "markdown",
   "id": "98ebac84",
   "metadata": {},
   "source": [
    "### Throwing Custom Exceptions"
   ]
  },
  {
   "cell_type": "code",
   "execution_count": 11,
   "id": "ec96f372",
   "metadata": {},
   "outputs": [
    {
     "name": "stdout",
     "output_type": "stream",
     "text": [
      "Custom Exception Caught: Negative numbers are not allowed!  - Exception Class Type:  <class '__main__.NegativeNumberError'>\n"
     ]
    }
   ],
   "source": [
    "class NegativeNumberError(Exception):\n",
    "    \"\"\"Custom exception for negative numbers\"\"\"\n",
    "    pass\n",
    "\n",
    "def check_positive(n):\n",
    "    if n < 0:\n",
    "        raise NegativeNumberError(\"Negative numbers are not allowed!\")\n",
    "    return f\"{n} is positive\"\n",
    "\n",
    "try:\n",
    "    print(check_positive(-5))  # Raises NegativeNumberError\n",
    "except NegativeNumberError as e:\n",
    "    print(f\"Custom Exception Caught: {e}\", \" - Exception Class Type: \", type(e))  # Output: Custom Exception Caught: Negative numbers are not allowed!\n"
   ]
  },
  {
   "cell_type": "markdown",
   "id": "0ff25346",
   "metadata": {},
   "source": [
    "### Using NoReturn"
   ]
  },
  {
   "cell_type": "code",
   "execution_count": 12,
   "id": "5c68f7e5",
   "metadata": {},
   "outputs": [
    {
     "name": "stdout",
     "output_type": "stream",
     "text": [
      "Program terminated: Terminating the program.\n"
     ]
    }
   ],
   "source": [
    "from typing import NoReturn\n",
    "\n",
    "def terminate_program() -> NoReturn:\n",
    "    \"\"\"Terminate the program by raising an exception.\"\"\"\n",
    "    raise SystemExit(\"Terminating the program.\")\n",
    "\n",
    "# When you call terminate_program, it never returns normally:\n",
    "try:\n",
    "    terminate_program()\n",
    "except SystemExit as e:\n",
    "    print(f\"Program terminated: {e}\")\n"
   ]
  }
 ],
 "metadata": {
  "kernelspec": {
   "display_name": "base",
   "language": "python",
   "name": "python3"
  },
  "language_info": {
   "codemirror_mode": {
    "name": "ipython",
    "version": 3
   },
   "file_extension": ".py",
   "mimetype": "text/x-python",
   "name": "python",
   "nbconvert_exporter": "python",
   "pygments_lexer": "ipython3",
   "version": "3.12.7"
  }
 },
 "nbformat": 4,
 "nbformat_minor": 5
}
